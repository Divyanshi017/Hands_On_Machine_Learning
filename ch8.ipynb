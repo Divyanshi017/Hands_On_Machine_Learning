{
  "nbformat": 4,
  "nbformat_minor": 0,
  "metadata": {
    "colab": {
      "provenance": [],
      "authorship_tag": "ABX9TyMsD1F2KTmxwhTKhQ0tJbB9"
    },
    "kernelspec": {
      "name": "python3",
      "display_name": "Python 3"
    },
    "language_info": {
      "name": "python"
    }
  },
  "cells": [
    {
      "cell_type": "code",
      "execution_count": 19,
      "metadata": {
        "colab": {
          "base_uri": "https://localhost:8080/"
        },
        "id": "yYNNuM00EYfN",
        "outputId": "5c074999-fb2a-412f-e7a2-615a7f4a5183"
      },
      "outputs": [
        {
          "output_type": "stream",
          "name": "stdout",
          "text": [
            "[-0.66580052 -0.63875032  0.38562638]\n",
            "[ 0.72455777 -0.4301227   0.53852623]\n"
          ]
        }
      ],
      "source": [
        "import numpy as np\n",
        "x = np.array([\n",
        "    [2.5, 2.4, 0.5],\n",
        "    [0.5, 0.7, 1.8],\n",
        "    [2.2, 2.9, 0.4],\n",
        "    [1.9, 2.2, 1.1],\n",
        "    [3.1, 3.0, 0.6]\n",
        "])\n",
        "y = np.array([0, 1, 0, 1,0])\n",
        "x_centered=x-x.mean(axis=0)\n",
        "U,s,Vt=np.linalg.svd(x_centered)\n",
        "c1=Vt.T[:,0]\n",
        "c2=Vt.T[:,1]\n",
        "print(c1)\n",
        "print(c2)"
      ]
    },
    {
      "cell_type": "code",
      "source": [
        "W2=Vt.T[:,:2]\n",
        "X2D=x_centered.dot(W2)\n",
        "print(X2D)"
      ],
      "metadata": {
        "colab": {
          "base_uri": "https://localhost:8080/"
        },
        "id": "CoUVYgBVMD-p",
        "outputId": "ba32e684-9f6d-41f4-e45d-2a00bec30597"
      },
      "execution_count": 20,
      "outputs": [
        {
          "output_type": "stream",
          "name": "stdout",
          "text": [
            "[[-0.55500631  0.05983697]\n",
            " [ 2.36378455  0.04201414]\n",
            " [-0.71320395 -0.42644433]\n",
            " [ 0.20359989  0.03424259]\n",
            " [-1.29917417  0.29035063]]\n"
          ]
        }
      ]
    },
    {
      "cell_type": "code",
      "source": [
        "from sklearn.decomposition import PCA\n",
        "pca=PCA(n_components=2)\n",
        "X2D=pca.fit_transform(x)\n",
        "print(X2D)"
      ],
      "metadata": {
        "colab": {
          "base_uri": "https://localhost:8080/"
        },
        "id": "PFWXy_vle752",
        "outputId": "b0499161-1d2d-4ede-fb55-3eb0611cdecf"
      },
      "execution_count": 21,
      "outputs": [
        {
          "output_type": "stream",
          "name": "stdout",
          "text": [
            "[[ 0.55500631  0.05983697]\n",
            " [-2.36378455  0.04201414]\n",
            " [ 0.71320395 -0.42644433]\n",
            " [-0.20359989  0.03424259]\n",
            " [ 1.29917417  0.29035063]]\n"
          ]
        }
      ]
    },
    {
      "cell_type": "code",
      "source": [
        "pca=PCA()\n",
        "x_train= np.array([\n",
        "    [2.5, 2.4, 0.5],\n",
        "    [0.5, 0.7, 1.8],\n",
        "    [2.2, 2.9, 0.4],\n",
        "    [1.9, 2.2, 1.1],\n",
        "    [3.1, 3.0, 0.6]\n",
        "])\n",
        "pca.fit(x_train)\n",
        "cumsum=np.cumsum(pca.explained_variance_ratio_)\n",
        "d=np.argmax(cumsum>=0.95)+1\n",
        "print(d)"
      ],
      "metadata": {
        "colab": {
          "base_uri": "https://localhost:8080/"
        },
        "id": "5UapD1uIf58j",
        "outputId": "67b8b8f0-7099-4a1a-c1a5-09693ab66feb"
      },
      "execution_count": 22,
      "outputs": [
        {
          "output_type": "stream",
          "name": "stdout",
          "text": [
            "1\n"
          ]
        }
      ]
    },
    {
      "cell_type": "code",
      "source": [
        "pca=PCA(n_components=2)\n",
        "x_reduced=pca.fit_transform(x_train)\n",
        "print(x_reduced)"
      ],
      "metadata": {
        "colab": {
          "base_uri": "https://localhost:8080/"
        },
        "id": "ij-LvpXnhDzg",
        "outputId": "c30f6fbb-06a8-43b3-e0e7-f37d11970756"
      },
      "execution_count": 23,
      "outputs": [
        {
          "output_type": "stream",
          "name": "stdout",
          "text": [
            "[[ 0.55500631  0.05983697]\n",
            " [-2.36378455  0.04201414]\n",
            " [ 0.71320395 -0.42644433]\n",
            " [-0.20359989  0.03424259]\n",
            " [ 1.29917417  0.29035063]]\n"
          ]
        }
      ]
    },
    {
      "cell_type": "code",
      "source": [
        "x_recovered=pca.inverse_transform(x_reduced)\n",
        "print(x_recovered)"
      ],
      "metadata": {
        "colab": {
          "base_uri": "https://localhost:8080/"
        },
        "id": "l-ql8OdLhy_d",
        "outputId": "37c529cb-a72a-46ae-de94-45de6aec238d"
      },
      "execution_count": 24,
      "outputs": [
        {
          "output_type": "stream",
          "name": "stdout",
          "text": [
            "[[2.45287883 2.56877322 0.6981987 ]\n",
            " [0.49663269 0.71206064 1.8141634 ]\n",
            " [2.20586801 2.87898264 0.37531828]\n",
            " [1.92925382 2.09522199 0.97695402]\n",
            " [3.11536664 2.94496151 0.5353656 ]]\n"
          ]
        }
      ]
    },
    {
      "cell_type": "code",
      "source": [
        "rnd_pca=PCA(n_components=2,svd_solver=\"randomized\")\n",
        "x_reduced=rnd_pca.fit_transform(x_train)\n",
        "print(x_reduced)"
      ],
      "metadata": {
        "colab": {
          "base_uri": "https://localhost:8080/"
        },
        "id": "UI0DdKO-h2Y8",
        "outputId": "f1b758eb-2f6a-422b-834f-9a4bd67681ba"
      },
      "execution_count": 25,
      "outputs": [
        {
          "output_type": "stream",
          "name": "stdout",
          "text": [
            "[[ 0.55500631  0.05983697]\n",
            " [-2.36378455  0.04201414]\n",
            " [ 0.71320395 -0.42644433]\n",
            " [-0.20359989  0.03424259]\n",
            " [ 1.29917417  0.29035063]]\n"
          ]
        }
      ]
    },
    {
      "cell_type": "code",
      "source": [
        "from sklearn.decomposition import IncrementalPCA\n",
        "n_components=3\n",
        "n_batches=2\n",
        "inc_pca=IncrementalPCA(n_components=n_components)\n",
        "x_train=np.random.rand(6,4)\n",
        "for x_batch in np.array_split(x_train,n_batches):\n",
        "    inc_pca.partial_fit(x_batch)\n",
        "x_reduced=inc_pca.transform(x_train)\n",
        "print(x_reduced)"
      ],
      "metadata": {
        "colab": {
          "base_uri": "https://localhost:8080/"
        },
        "id": "XYXy24RximLC",
        "outputId": "00ce19d1-575c-4ff2-bab4-39fa321ce8fe"
      },
      "execution_count": 26,
      "outputs": [
        {
          "output_type": "stream",
          "name": "stdout",
          "text": [
            "[[-0.25846221 -0.19525157  0.32372065]\n",
            " [-0.14214652  0.58714761  0.01934325]\n",
            " [ 0.32287681 -0.03124395  0.15064254]\n",
            " [-0.3509514  -0.2469905  -0.15975639]\n",
            " [ 0.73639492 -0.07525369 -0.11593347]\n",
            " [-0.30771161 -0.0384079  -0.21801658]]\n"
          ]
        }
      ]
    },
    {
      "cell_type": "code",
      "source": [
        "from sklearn.decomposition import KernelPCA\n",
        "rbf_pca=KernelPCA(n_components=2,kernel=\"rbf\",gamma=0.04)\n",
        "x_reduced=rbf_pca.fit_transform(x_train)\n",
        "print(x_reduced)"
      ],
      "metadata": {
        "colab": {
          "base_uri": "https://localhost:8080/"
        },
        "id": "C61hktDWjKmM",
        "outputId": "9a4ef3dc-8922-4dc2-9309-4e05088618f0"
      },
      "execution_count": 27,
      "outputs": [
        {
          "output_type": "stream",
          "name": "stdout",
          "text": [
            "[[-0.07217982 -0.05462247]\n",
            " [-0.03903859  0.16485713]\n",
            " [ 0.09061802 -0.00904712]\n",
            " [-0.09834745 -0.0689681 ]\n",
            " [ 0.20535019 -0.02143491]\n",
            " [-0.08640235 -0.01078453]]\n"
          ]
        }
      ]
    },
    {
      "cell_type": "code",
      "source": [
        "from ast import Param\n",
        "from sklearn.model_selection import GridSearchCV\n",
        "from sklearn.linear_model import LogisticRegression\n",
        "from sklearn.pipeline import Pipeline\n",
        "clf=Pipeline([\n",
        "    (\"kpca\",KernelPCA(n_components=2)),\n",
        "    (\"log_reg\",LogisticRegression())\n",
        "])\n",
        "param_grid=[\n",
        "    {\n",
        "        \"kpca__gamma\":np.linspace(0.03,0.05,10),\n",
        "        \"kpca__kernel\":[\"rbf\",\"sigmoid\"]\n",
        "    }\n",
        "]\n",
        "grid_search=GridSearchCV(clf,param_grid,cv=3)\n",
        "grid_search.fit(x,y)\n",
        "print(grid_search.best_params_)"
      ],
      "metadata": {
        "colab": {
          "base_uri": "https://localhost:8080/"
        },
        "id": "0nVXMkSol8JT",
        "outputId": "bf23792c-1493-468c-aee4-c7e14a974cac"
      },
      "execution_count": 28,
      "outputs": [
        {
          "output_type": "stream",
          "name": "stderr",
          "text": [
            "/usr/local/lib/python3.11/dist-packages/sklearn/model_selection/_split.py:805: UserWarning: The least populated class in y has only 2 members, which is less than n_splits=3.\n",
            "  warnings.warn(\n"
          ]
        },
        {
          "output_type": "stream",
          "name": "stdout",
          "text": [
            "{'kpca__gamma': np.float64(0.03), 'kpca__kernel': 'rbf'}\n"
          ]
        }
      ]
    },
    {
      "cell_type": "code",
      "source": [
        "rbf_pca=KernelPCA(n_components=2,kernel=\"rbf\",gamma=0.0433,fit_inverse_transform=True)\n",
        "x_reduced=rbf_pca.fit_transform(x)\n",
        "x_preimage=rbf_pca.inverse_transform(x_reduced)\n",
        "print(x_preimage)"
      ],
      "metadata": {
        "colab": {
          "base_uri": "https://localhost:8080/"
        },
        "id": "l9C2n3G2mnH2",
        "outputId": "dbfacc9d-da4e-49e3-b160-7962774d1e17"
      },
      "execution_count": 29,
      "outputs": [
        {
          "output_type": "stream",
          "name": "stdout",
          "text": [
            "[[1.72462857 1.89131976 0.72222151]\n",
            " [1.61089309 1.77766106 0.76338535]\n",
            " [1.72711568 1.89386859 0.71921247]\n",
            " [1.70217993 1.87037163 0.73607026]\n",
            " [1.73616275 1.90042142 0.70929559]]\n"
          ]
        }
      ]
    },
    {
      "cell_type": "code",
      "source": [
        "from sklearn.manifold import LocallyLinearEmbedding\n",
        "lle=LocallyLinearEmbedding(n_components=2,n_neighbors=4)\n",
        "x_reduced=lle.fit_transform(x)\n",
        "print(x_reduced)"
      ],
      "metadata": {
        "colab": {
          "base_uri": "https://localhost:8080/"
        },
        "id": "HZx13BLssb76",
        "outputId": "d46782b3-eafa-4bc1-b310-1a3af400ef4c"
      },
      "execution_count": 34,
      "outputs": [
        {
          "output_type": "stream",
          "name": "stdout",
          "text": [
            "[[ 0.22141777  0.08113412]\n",
            " [-0.82187101 -0.08983963]\n",
            " [ 0.22147143  0.77530247]\n",
            " [-0.08857294 -0.17067589]\n",
            " [ 0.46755475 -0.59592107]]\n"
          ]
        }
      ]
    },
    {
      "cell_type": "code",
      "source": [],
      "metadata": {
        "id": "mdL5HiEgsqL2"
      },
      "execution_count": null,
      "outputs": []
    }
  ]
}